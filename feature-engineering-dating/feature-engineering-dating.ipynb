{
 "cells": [
  {
   "cell_type": "markdown",
   "id": "1ac51aef",
   "metadata": {},
   "source": [
    "# Feature Engineering"
   ]
  },
  {
   "cell_type": "markdown",
   "id": "270f62e2",
   "metadata": {},
   "source": [
    "스피드 데이텅 데이터로,  \n",
    "상황에 맞게 다양한 방법으로 데이터를 처리하고 주어진 데이터에서 추가적인 정보를 이끌어 내는 Feature Engineering를 수행한다."
   ]
  },
  {
   "cell_type": "code",
   "execution_count": null,
   "id": "ca257f8c",
   "metadata": {},
   "outputs": [],
   "source": []
  }
 ],
 "metadata": {
  "kernelspec": {
   "display_name": "Python 3 (ipykernel)",
   "language": "python",
   "name": "python3"
  },
  "language_info": {
   "codemirror_mode": {
    "name": "ipython",
    "version": 3
   },
   "file_extension": ".py",
   "mimetype": "text/x-python",
   "name": "python",
   "nbconvert_exporter": "python",
   "pygments_lexer": "ipython3",
   "version": "3.9.7"
  }
 },
 "nbformat": 4,
 "nbformat_minor": 5
}
